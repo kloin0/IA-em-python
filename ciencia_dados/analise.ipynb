{
 "cells": [
  {
   "cell_type": "code",
   "execution_count": null,
   "id": "b975deba",
   "metadata": {},
   "outputs": [],
   "source": [
    "'''\n",
    "Análise Preditiva = https://www.kaggle.com/datasets/datacertlaboratoria/projeto-3-segmentao-de-clientes-no-ecommerce\n",
    "1-) Uma planilha que tenha, pelo menos, o seguinte:\n",
    "Fonte de dados pré-processada (dados limpos)\n",
    "Um guia de relatório com gráficos das principais métricas de negócios\n",
    "Uma guia com uma análise por coorte geral e também para clientes do Reino Unido e \n",
    "clientes fora do Reino Unido\n",
    "Uma segmentação usando a metodologia RFM\n",
    "Todos os dados, tabelas e visualizações adicionais que contribuem para sua análise\n",
    "\n",
    "2-) Um vídeo de no máximo 5 minutos simulando uma reunião com seu chefe, onde você explica suas \n",
    "conclusões e recomendações. Para isso você pode contar com sua planilha ou montar uma apresentação no \n",
    "Google Slides. Para se gravar recomendamos a plataforma Loom. Em particular, seu vídeo \n",
    "deve fornecer um diagnóstico de vendas de negócios e recomendações concretas com base em sua análise.'''"
   ]
  },
  {
   "cell_type": "code",
   "execution_count": 2,
   "id": "d14a84f5",
   "metadata": {
    "scrolled": false
   },
   "outputs": [
    {
     "data": {
      "text/html": [
       "<div>\n",
       "<style scoped>\n",
       "    .dataframe tbody tr th:only-of-type {\n",
       "        vertical-align: middle;\n",
       "    }\n",
       "\n",
       "    .dataframe tbody tr th {\n",
       "        vertical-align: top;\n",
       "    }\n",
       "\n",
       "    .dataframe thead th {\n",
       "        text-align: right;\n",
       "    }\n",
       "</style>\n",
       "<table border=\"1\" class=\"dataframe\">\n",
       "  <thead>\n",
       "    <tr style=\"text-align: right;\">\n",
       "      <th></th>\n",
       "      <th>N° da fatura</th>\n",
       "      <th>Data da fatura</th>\n",
       "      <th>ID Cliente</th>\n",
       "      <th>País</th>\n",
       "      <th>Quantidade</th>\n",
       "      <th>Valor</th>\n",
       "    </tr>\n",
       "  </thead>\n",
       "  <tbody>\n",
       "    <tr>\n",
       "      <th>0</th>\n",
       "      <td>548370</td>\n",
       "      <td>3/30/2021 16:14:00</td>\n",
       "      <td>15528.0</td>\n",
       "      <td>United Kingdom</td>\n",
       "      <td>123</td>\n",
       "      <td>229,33</td>\n",
       "    </tr>\n",
       "    <tr>\n",
       "      <th>1</th>\n",
       "      <td>575767</td>\n",
       "      <td>11/11/2021 11:11:00</td>\n",
       "      <td>17348.0</td>\n",
       "      <td>United Kingdom</td>\n",
       "      <td>163</td>\n",
       "      <td>209,73</td>\n",
       "    </tr>\n",
       "    <tr>\n",
       "      <th>2</th>\n",
       "      <td>C570727</td>\n",
       "      <td>10/12/2021 11:32:00</td>\n",
       "      <td>12471.0</td>\n",
       "      <td>Germany</td>\n",
       "      <td>-1</td>\n",
       "      <td>-1,45</td>\n",
       "    </tr>\n",
       "    <tr>\n",
       "      <th>3</th>\n",
       "      <td>549106</td>\n",
       "      <td>4/6/2021 12:08:00</td>\n",
       "      <td>17045.0</td>\n",
       "      <td>United Kingdom</td>\n",
       "      <td>1</td>\n",
       "      <td>39,95</td>\n",
       "    </tr>\n",
       "    <tr>\n",
       "      <th>4</th>\n",
       "      <td>573112</td>\n",
       "      <td>10/27/2021 15:33:00</td>\n",
       "      <td>16416.0</td>\n",
       "      <td>United Kingdom</td>\n",
       "      <td>357</td>\n",
       "      <td>344,83</td>\n",
       "    </tr>\n",
       "    <tr>\n",
       "      <th>...</th>\n",
       "      <td>...</td>\n",
       "      <td>...</td>\n",
       "      <td>...</td>\n",
       "      <td>...</td>\n",
       "      <td>...</td>\n",
       "      <td>...</td>\n",
       "    </tr>\n",
       "    <tr>\n",
       "      <th>25948</th>\n",
       "      <td>C556518</td>\n",
       "      <td>6/13/2021 10:53:00</td>\n",
       "      <td>16794.0</td>\n",
       "      <td>United Kingdom</td>\n",
       "      <td>-2</td>\n",
       "      <td>-12,70</td>\n",
       "    </tr>\n",
       "    <tr>\n",
       "      <th>25949</th>\n",
       "      <td>553060</td>\n",
       "      <td>5/13/2021 10:44:00</td>\n",
       "      <td>15826.0</td>\n",
       "      <td>United Kingdom</td>\n",
       "      <td>488</td>\n",
       "      <td>720,00</td>\n",
       "    </tr>\n",
       "    <tr>\n",
       "      <th>25950</th>\n",
       "      <td>577049</td>\n",
       "      <td>11/17/2021 13:58:00</td>\n",
       "      <td>17397.0</td>\n",
       "      <td>United Kingdom</td>\n",
       "      <td>104</td>\n",
       "      <td>298,78</td>\n",
       "    </tr>\n",
       "    <tr>\n",
       "      <th>25951</th>\n",
       "      <td>550122</td>\n",
       "      <td>4/14/2021 12:39:00</td>\n",
       "      <td>12931.0</td>\n",
       "      <td>United Kingdom</td>\n",
       "      <td>1176</td>\n",
       "      <td>1488,00</td>\n",
       "    </tr>\n",
       "    <tr>\n",
       "      <th>25952</th>\n",
       "      <td>537999</td>\n",
       "      <td>12/9/2020 11:44:00</td>\n",
       "      <td>NaN</td>\n",
       "      <td>United Kingdom</td>\n",
       "      <td>-223</td>\n",
       "      <td>0,00</td>\n",
       "    </tr>\n",
       "  </tbody>\n",
       "</table>\n",
       "<p>25953 rows × 6 columns</p>\n",
       "</div>"
      ],
      "text/plain": [
       "      N° da fatura       Data da fatura  ID Cliente            País  \\\n",
       "0           548370   3/30/2021 16:14:00     15528.0  United Kingdom   \n",
       "1           575767  11/11/2021 11:11:00     17348.0  United Kingdom   \n",
       "2          C570727  10/12/2021 11:32:00     12471.0         Germany   \n",
       "3           549106    4/6/2021 12:08:00     17045.0  United Kingdom   \n",
       "4           573112  10/27/2021 15:33:00     16416.0  United Kingdom   \n",
       "...            ...                  ...         ...             ...   \n",
       "25948      C556518   6/13/2021 10:53:00     16794.0  United Kingdom   \n",
       "25949       553060   5/13/2021 10:44:00     15826.0  United Kingdom   \n",
       "25950       577049  11/17/2021 13:58:00     17397.0  United Kingdom   \n",
       "25951       550122   4/14/2021 12:39:00     12931.0  United Kingdom   \n",
       "25952       537999   12/9/2020 11:44:00         NaN  United Kingdom   \n",
       "\n",
       "       Quantidade    Valor  \n",
       "0             123   229,33  \n",
       "1             163   209,73  \n",
       "2              -1    -1,45  \n",
       "3               1    39,95  \n",
       "4             357   344,83  \n",
       "...           ...      ...  \n",
       "25948          -2   -12,70  \n",
       "25949         488   720,00  \n",
       "25950         104   298,78  \n",
       "25951        1176  1488,00  \n",
       "25952        -223     0,00  \n",
       "\n",
       "[25953 rows x 6 columns]"
      ]
     },
     "execution_count": 2,
     "metadata": {},
     "output_type": "execute_result"
    }
   ],
   "source": [
    "import pandas as pd \n",
    "from openpyxl import Workbook\n",
    "import matplotlib.pyplot as plt\n",
    "import numpy as np \n",
    "\n",
    "wb = Workbook()\n",
    "dados = pd.read_csv('segmentacao.zip',compression=\"zip\")\n",
    "dados"
   ]
  },
  {
   "cell_type": "code",
   "execution_count": 3,
   "id": "3d13ec86",
   "metadata": {},
   "outputs": [
    {
     "data": {
      "text/plain": [
       "0              United Kingdom\n",
       "2                     Germany\n",
       "9                        EIRE\n",
       "13                     France\n",
       "27                     Sweden\n",
       "30                    Belgium\n",
       "90                      Italy\n",
       "140                     Japan\n",
       "177                    Israel\n",
       "188                  Portugal\n",
       "240               Netherlands\n",
       "266           Channel Islands\n",
       "296               Switzerland\n",
       "323                   Finland\n",
       "461                     Spain\n",
       "481                     Malta\n",
       "683                 Singapore\n",
       "742      United Arab Emirates\n",
       "987                    Norway\n",
       "1103                Hong Kong\n",
       "1166                  Denmark\n",
       "1192                Australia\n",
       "1288                      USA\n",
       "1295                   Poland\n",
       "1700                Lithuania\n",
       "2593       European Community\n",
       "3111                  Austria\n",
       "3230                   Cyprus\n",
       "3525                  Iceland\n",
       "4563              Unspecified\n",
       "5190                   Canada\n",
       "6050                   Greece\n",
       "11847          Czech Republic\n",
       "12292                 Lebanon\n",
       "13264                  Brazil\n",
       "14165                     RSA\n",
       "19664                 Bahrain\n",
       "24342            Saudi Arabia\n",
       "Name: País, dtype: object"
      ]
     },
     "execution_count": 3,
     "metadata": {},
     "output_type": "execute_result"
    }
   ],
   "source": [
    "# Dados limpos \n",
    "qtd_vendas = len(dados[\"País\"])\n",
    "fatura = dados[\"N° da fatura\"]\n",
    "data = dados[\"Data da fatura\"]\n",
    "id_cliente = [\"ID Cliente\"]\n",
    "pais = dados[\"País\"]\n",
    "quantidade = dados[\"Quantidade\"]\n",
    "valor = dados[\"Valor\"]\n",
    "pais = pais.drop_duplicates()\n",
    "quantidade = quantidade.sum()\n",
    "valor = valor.sum()\n",
    "pais"
   ]
  },
  {
   "cell_type": "code",
   "execution_count": 4,
   "id": "4a0140ab",
   "metadata": {},
   "outputs": [
    {
     "data": {
      "image/png": "[encoded data removed]",
      "text/plain": [
       "<Figure size 1000x600 with 1 Axes>"
      ]
     },
     "metadata": {},
     "output_type": "display_data"
    }
   ],
   "source": [
    "# paises que mais compra grafico \n",
    "import matplotlib.pyplot as plt\n",
    "qtd_compra_pais = dados[\"País\"].value_counts().head()\n",
    "nome_pais = pais.head()\n",
    "for c in enumerate(pais):\n",
    "    pass\n",
    "plt.figure(figsize=(10,6))\n",
    "plt.bar(nome_pais,qtd_compra_pais,color='blue')\n",
    "plt.title('Paises que mais compra')\n",
    "plt.show()\n"
   ]
  },
  {
   "cell_type": "code",
   "execution_count": 12,
   "id": "8f9732ec",
   "metadata": {},
   "outputs": [
    {
     "data": {
      "image/png": "[encoded data removed]",
      "text/plain": [
       "<Figure size 1000x600 with 1 Axes>"
      ]
     },
     "metadata": {},
     "output_type": "display_data"
    }
   ],
   "source": [
    "# Ultimo paises que comprarão \n",
    "paises_compra_menos = dados[\"País\"].value_counts().tail()\n",
    "\n",
    "nomes_ultimos = pais.tail()\n",
    "plt.figure(figsize=(10,6))\n",
    "plt.bar(nome_pais,paises_compra_menos,color='blue')\n",
    "plt.title('Ultimo paises que comprarão')\n",
    "plt.show()"
   ]
  },
  {
   "cell_type": "code",
   "execution_count": 16,
   "id": "70b1c990",
   "metadata": {},
   "outputs": [
    {
     "data": {
      "image/png": "[encoded data removed]",
      "text/plain": [
       "<Figure size 1000x600 with 1 Axes>"
      ]
     },
     "metadata": {},
     "output_type": "display_data"
    },
    {
     "data": {
      "text/plain": [
       "United Arab Emirates    3\n",
       "Saudi Arabia            2\n",
       "Brazil                  1\n",
       "RSA                     1\n",
       "Lebanon                 1\n",
       "Name: País, dtype: int64"
      ]
     },
     "execution_count": 16,
     "metadata": {},
     "output_type": "execute_result"
    }
   ],
   "source": [
    "# Paises que menos Comprarão\n",
    "maior_menor = dados[\"País\"].value_counts()\n",
    "paises_que_menos_comprarao = maior_menor.tail()\n",
    "nomes_ultimos = maior_menor.tail()\n",
    "plt.figure(figsize=(10,6))\n",
    "plt.bar(nomes_ultimos,paises_que_menos_comprarao,color='blue')\n",
    "plt.title('Paises que mais compra')\n",
    "plt.show()\n",
    "nomes_ultimos"
   ]
  },
  {
   "cell_type": "code",
   "execution_count": null,
   "id": "32bf4830",
   "metadata": {},
   "outputs": [],
   "source": []
  }
 ],
 "metadata": {
  "kernelspec": {
   "display_name": "Python 3 (ipykernel)",
   "language": "python",
   "name": "python3"
  },
  "language_info": {
   "codemirror_mode": {
    "name": "ipython",
    "version": 3
   },
   "file_extension": ".py",
   "mimetype": "text/x-python",
   "name": "python",
   "nbconvert_exporter": "python",
   "pygments_lexer": "ipython3",
   "version": "3.9.2"
  }
 },
 "nbformat": 4,
 "nbformat_minor": 5
}
